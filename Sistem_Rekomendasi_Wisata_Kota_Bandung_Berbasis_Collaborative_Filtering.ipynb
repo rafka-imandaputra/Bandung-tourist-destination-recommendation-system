{
 "cells": [
  {
   "cell_type": "markdown",
   "metadata": {
    "id": "pl_OzIlMljtM"
   },
   "source": [
    "# Sistem Rekomendasi Destinasi Wisata Kota Bandung Berbasis Collaborative Filtering\n",
    "<hr>\n",
    "\n",
    "#### Sumber data: https://www.kaggle.com/aprabowo/indonesia-tourism-destination\n",
    "#### Oleh: [Rafka Imanda Putra](https://www.dicoding.com/users/rafka_imanda)"
   ]
  },
  {
   "cell_type": "markdown",
   "metadata": {
    "id": "UdTjoSqWlkp1"
   },
   "source": [
    "# Pendahuluan"
   ]
  },
  {
   "cell_type": "markdown",
   "metadata": {
    "id": "CV79r6EnteBs"
   },
   "source": [
    "<div>\n",
    "<img src=\"https://static.limakaki.com/2017/07/slide_12.jpg\" width=\"900\";/>\n",
    "</div>"
   ]
  },
  {
   "cell_type": "markdown",
   "metadata": {
    "id": "j45x_5Bik84j"
   },
   "source": [
    "Sebelum bepergian, biasanya seseorang akan membuat rencana terlebih dahulu tentang lokasi yang akan dikunjungi dan waktu keberangkatannya. Hal ini dilakukan untuk perencanaan sebelum berwisata ke suatu Kota. \n",
    "\n",
    "Kota Bandung memiliki daya tarik wisata yang cukup tinggi, namun dikutip dari humas.bandung.go.id/ jumlah wisatawan ke Kota Bandung turun 50% pada tahun 2021. Tentunya angka ini wajar karena penyebaran Covid-19 yang mengkhawatirkan di Indonesia. \n",
    "\n",
    "Untuk periode Oktober 2021, sejumlah wisata di Kota Bandung sudah mulai beroperasi, ini akan menjadi momentum yang tepat untuk menggerakkan pariwisata kembali.\n",
    "\n",
    "Pada projek ini, saya akan membuat sebuah sistem rekomendasi berbasis collaborative filtering untuk menampilkan top-n recommendation destinasi wisata di Kota Bandung berdasarkan data user, rating, dan place"
   ]
  },
  {
   "cell_type": "markdown",
   "metadata": {
    "id": "9t4TWaJamCZc"
   },
   "source": [
    "# Alur Proses"
   ]
  },
  {
   "cell_type": "markdown",
   "metadata": {
    "id": "BfabEt9PlW3u"
   },
   "source": [
    "## 1. Mengimpor Library Python yang Dibutuhkan"
   ]
  },
  {
   "cell_type": "code",
   "execution_count": 1,
   "metadata": {
    "id": "nIgpP-3ihkU0"
   },
   "outputs": [],
   "source": [
    "# Untuk pengolahan data\n",
    "import pandas as pd\n",
    "import numpy as np\n",
    "from zipfile import ZipFile\n",
    "from pathlib import Path\n",
    "\n",
    "# Untuk visualisasi data\n",
    "import seaborn as sns\n",
    "import matplotlib.pyplot as plt\n",
    "\n",
    "%matplotlib inline\n",
    "sns.set_palette('Set1')\n",
    "sns.set()\n",
    "\n",
    "# Untuk pemodelan\n",
    "import tensorflow as tf\n",
    "from tensorflow import keras\n",
    "from tensorflow.keras import layers\n",
    "\n",
    "# Untuk menghilangkan warnings saat plotting seaborn\n",
    "import warnings\n",
    "warnings.filterwarnings('ignore')\n",
    "\n",
    "# Untuk mengupload file\n",
    "from google.colab import files"
   ]
  },
  {
   "cell_type": "markdown",
   "metadata": {
    "id": "YuAzSI5xyBOJ"
   },
   "source": [
    "## 2. Menyiapkan Dataset yang digunakan"
   ]
  },
  {
   "cell_type": "code",
   "execution_count": 2,
   "metadata": {
    "colab": {
     "base_uri": "https://localhost:8080/",
     "height": 140,
     "resources": {
      "http://localhost:8080/nbextensions/google.colab/files.js": {
       "data": "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",
       "headers": [
        [
         "content-type",
         "application/javascript"
        ]
       ],
       "ok": true,
       "status": 200,
       "status_text": ""
      }
     }
    },
    "id": "u58NPqZhhn-l",
    "outputId": "d4ab1ea9-5dad-4d0b-9cf9-4a98c79608c1"
   },
   "outputs": [
    {
     "data": {
      "text/html": [
       "\n",
       "     <input type=\"file\" id=\"files-70f6afe3-d0c7-462e-8235-2d6e85249957\" name=\"files[]\" multiple disabled\n",
       "        style=\"border:none\" />\n",
       "     <output id=\"result-70f6afe3-d0c7-462e-8235-2d6e85249957\">\n",
       "      Upload widget is only available when the cell has been executed in the\n",
       "      current browser session. Please rerun this cell to enable.\n",
       "      </output>\n",
       "      <script src=\"/nbextensions/google.colab/files.js\"></script> "
      ],
      "text/plain": [
       "<IPython.core.display.HTML object>"
      ]
     },
     "metadata": {},
     "output_type": "display_data"
    },
    {
     "name": "stdout",
     "output_type": "stream",
     "text": [
      "Saving tourism_rating.csv to tourism_rating.csv\n",
      "Saving tourism_with_id.csv to tourism_with_id.csv\n",
      "Saving user.csv to user.csv\n"
     ]
    }
   ],
   "source": [
    "# Upload semua dataset yang dipakai\n",
    "uploaded = files.upload()"
   ]
  },
  {
   "cell_type": "markdown",
   "metadata": {
    "id": "Ls7Ze-uWnlLM"
   },
   "source": [
    "##### Keterangan:\n",
    "* tourism_with_id.csv - mengandung informasi tempak wisata di 5 kota besar di Indonesia (hanya kota Bandung yang dipakai)\n",
    "* user.csv - mengandung informasi pengguna untuk membuat rekomendasi fitur berdasar pengguna\n",
    "* tourism_rating.csv - mengandung informasi pengguna, tempat wisata, dan rating untuk membuat sistem rekomendasi berdasar rating\n"
   ]
  },
  {
   "cell_type": "markdown",
   "metadata": {
    "id": "rQvGwWhCx3SZ"
   },
   "source": [
    "## 3. Data Understanding"
   ]
  },
  {
   "cell_type": "markdown",
   "metadata": {
    "id": "VXlIb7w1yZkc"
   },
   "source": [
    "### 3.1 Menyiapkan Data"
   ]
  },
  {
   "cell_type": "code",
   "execution_count": 3,
   "metadata": {
    "id": "1peKJ4nBjgDB"
   },
   "outputs": [],
   "source": [
    "# Menyimpan masing-masing dataset kedalam variabel\n",
    "\n",
    "rating = pd.read_csv('tourism_rating.csv')\n",
    "place = pd.read_csv('tourism_with_id.csv')\n",
    "user = pd.read_csv('user.csv')"
   ]
  },
  {
   "cell_type": "markdown",
   "metadata": {
    "id": "IhgAOgsTyeaX"
   },
   "source": [
    "### 3.2 Eksplorasi Fitur-fitur pada Data"
   ]
  },
  {
   "cell_type": "markdown",
   "metadata": {
    "id": "Tc6EM20Iywo3"
   },
   "source": [
    "#### 3.2.1. Data place"
   ]
  },
  {
   "cell_type": "code",
   "execution_count": 4,
   "metadata": {
    "colab": {
     "base_uri": "https://localhost:8080/",
     "height": 230
    },
    "id": "HnXNiyxt0hb3",
    "outputId": "9c9b8259-b82b-4b0d-fff9-37541b0c27b1"
   },
   "outputs": [
    {
     "data": {
      "text/html": [
       "<div>\n",
       "<style scoped>\n",
       "    .dataframe tbody tr th:only-of-type {\n",
       "        vertical-align: middle;\n",
       "    }\n",
       "\n",
       "    .dataframe tbody tr th {\n",
       "        vertical-align: top;\n",
       "    }\n",
       "\n",
       "    .dataframe thead th {\n",
       "        text-align: right;\n",
       "    }\n",
       "</style>\n",
       "<table border=\"1\" class=\"dataframe\">\n",
       "  <thead>\n",
       "    <tr style=\"text-align: right;\">\n",
       "      <th></th>\n",
       "      <th>Place_Id</th>\n",
       "      <th>Place_Name</th>\n",
       "      <th>Description</th>\n",
       "      <th>Category</th>\n",
       "      <th>City</th>\n",
       "      <th>Price</th>\n",
       "      <th>Rating</th>\n",
       "      <th>Time_Minutes</th>\n",
       "      <th>Coordinate</th>\n",
       "      <th>Lat</th>\n",
       "      <th>Long</th>\n",
       "      <th>Unnamed: 11</th>\n",
       "      <th>Unnamed: 12</th>\n",
       "    </tr>\n",
       "  </thead>\n",
       "  <tbody>\n",
       "    <tr>\n",
       "      <th>0</th>\n",
       "      <td>1</td>\n",
       "      <td>Monumen Nasional</td>\n",
       "      <td>Monumen Nasional atau yang populer disingkat d...</td>\n",
       "      <td>Budaya</td>\n",
       "      <td>Jakarta</td>\n",
       "      <td>20000</td>\n",
       "      <td>4.6</td>\n",
       "      <td>15.0</td>\n",
       "      <td>{'lat': -6.1753924, 'lng': 106.8271528}</td>\n",
       "      <td>-6.175392</td>\n",
       "      <td>106.827153</td>\n",
       "      <td>NaN</td>\n",
       "      <td>1</td>\n",
       "    </tr>\n",
       "    <tr>\n",
       "      <th>1</th>\n",
       "      <td>2</td>\n",
       "      <td>Kota Tua</td>\n",
       "      <td>Kota tua di Jakarta, yang juga bernama Kota Tu...</td>\n",
       "      <td>Budaya</td>\n",
       "      <td>Jakarta</td>\n",
       "      <td>0</td>\n",
       "      <td>4.6</td>\n",
       "      <td>90.0</td>\n",
       "      <td>{'lat': -6.137644799999999, 'lng': 106.8171245}</td>\n",
       "      <td>-6.137645</td>\n",
       "      <td>106.817125</td>\n",
       "      <td>NaN</td>\n",
       "      <td>2</td>\n",
       "    </tr>\n",
       "  </tbody>\n",
       "</table>\n",
       "</div>"
      ],
      "text/plain": [
       "   Place_Id        Place_Name  ... Unnamed: 11 Unnamed: 12\n",
       "0         1  Monumen Nasional  ...         NaN           1\n",
       "1         2          Kota Tua  ...         NaN           2\n",
       "\n",
       "[2 rows x 13 columns]"
      ]
     },
     "execution_count": 4,
     "metadata": {},
     "output_type": "execute_result"
    }
   ],
   "source": [
    "# Melihat gambaran data place\n",
    "\n",
    "place.head(2)"
   ]
  },
  {
   "cell_type": "code",
   "execution_count": 5,
   "metadata": {
    "colab": {
     "base_uri": "https://localhost:8080/",
     "height": 145
    },
    "id": "eFZErucJzMKU",
    "outputId": "a9405338-d49c-4622-c169-63efab2d6614"
   },
   "outputs": [
    {
     "data": {
      "text/html": [
       "<div>\n",
       "<style scoped>\n",
       "    .dataframe tbody tr th:only-of-type {\n",
       "        vertical-align: middle;\n",
       "    }\n",
       "\n",
       "    .dataframe tbody tr th {\n",
       "        vertical-align: top;\n",
       "    }\n",
       "\n",
       "    .dataframe thead th {\n",
       "        text-align: right;\n",
       "    }\n",
       "</style>\n",
       "<table border=\"1\" class=\"dataframe\">\n",
       "  <thead>\n",
       "    <tr style=\"text-align: right;\">\n",
       "      <th></th>\n",
       "      <th>Place_Id</th>\n",
       "      <th>Place_Name</th>\n",
       "      <th>Description</th>\n",
       "      <th>Category</th>\n",
       "      <th>City</th>\n",
       "      <th>Price</th>\n",
       "      <th>Rating</th>\n",
       "      <th>Time_Minutes</th>\n",
       "      <th>Coordinate</th>\n",
       "      <th>Lat</th>\n",
       "      <th>Long</th>\n",
       "    </tr>\n",
       "  </thead>\n",
       "  <tbody>\n",
       "    <tr>\n",
       "      <th>0</th>\n",
       "      <td>1</td>\n",
       "      <td>Monumen Nasional</td>\n",
       "      <td>Monumen Nasional atau yang populer disingkat d...</td>\n",
       "      <td>Budaya</td>\n",
       "      <td>Jakarta</td>\n",
       "      <td>20000</td>\n",
       "      <td>4.6</td>\n",
       "      <td>15.0</td>\n",
       "      <td>{'lat': -6.1753924, 'lng': 106.8271528}</td>\n",
       "      <td>-6.175392</td>\n",
       "      <td>106.827153</td>\n",
       "    </tr>\n",
       "    <tr>\n",
       "      <th>1</th>\n",
       "      <td>2</td>\n",
       "      <td>Kota Tua</td>\n",
       "      <td>Kota tua di Jakarta, yang juga bernama Kota Tu...</td>\n",
       "      <td>Budaya</td>\n",
       "      <td>Jakarta</td>\n",
       "      <td>0</td>\n",
       "      <td>4.6</td>\n",
       "      <td>90.0</td>\n",
       "      <td>{'lat': -6.137644799999999, 'lng': 106.8171245}</td>\n",
       "      <td>-6.137645</td>\n",
       "      <td>106.817125</td>\n",
       "    </tr>\n",
       "  </tbody>\n",
       "</table>\n",
       "</div>"
      ],
      "text/plain": [
       "   Place_Id        Place_Name  ...       Lat        Long\n",
       "0         1  Monumen Nasional  ... -6.175392  106.827153\n",
       "1         2          Kota Tua  ... -6.137645  106.817125\n",
       "\n",
       "[2 rows x 11 columns]"
      ]
     },
     "execution_count": 5,
     "metadata": {},
     "output_type": "execute_result"
    }
   ],
   "source": [
    "# Membuang kolom yang tidak dipakai\n",
    "\n",
    "place = place.drop(['Unnamed: 11','Unnamed: 12'],axis=1)\n",
    "place.head(2)"
   ]
  },
  {
   "cell_type": "code",
   "execution_count": 6,
   "metadata": {
    "colab": {
     "base_uri": "https://localhost:8080/",
     "height": 179
    },
    "id": "jzw8PQIdEPZ5",
    "outputId": "7cb1f21e-27d1-4c87-b023-c63aef83afea"
   },
   "outputs": [
    {
     "data": {
      "text/html": [
       "<div>\n",
       "<style scoped>\n",
       "    .dataframe tbody tr th:only-of-type {\n",
       "        vertical-align: middle;\n",
       "    }\n",
       "\n",
       "    .dataframe tbody tr th {\n",
       "        vertical-align: top;\n",
       "    }\n",
       "\n",
       "    .dataframe thead th {\n",
       "        text-align: right;\n",
       "    }\n",
       "</style>\n",
       "<table border=\"1\" class=\"dataframe\">\n",
       "  <thead>\n",
       "    <tr style=\"text-align: right;\">\n",
       "      <th></th>\n",
       "      <th>Place_Id</th>\n",
       "      <th>Place_Name</th>\n",
       "      <th>Description</th>\n",
       "      <th>Category</th>\n",
       "      <th>City</th>\n",
       "      <th>Price</th>\n",
       "      <th>Rating</th>\n",
       "      <th>Time_Minutes</th>\n",
       "      <th>Coordinate</th>\n",
       "      <th>Lat</th>\n",
       "      <th>Long</th>\n",
       "    </tr>\n",
       "  </thead>\n",
       "  <tbody>\n",
       "    <tr>\n",
       "      <th>210</th>\n",
       "      <td>211</td>\n",
       "      <td>GunungTangkuban perahu</td>\n",
       "      <td>Gunung Tangkuban Parahu adalah salah satu gunu...</td>\n",
       "      <td>Cagar Alam</td>\n",
       "      <td>Bandung</td>\n",
       "      <td>30000</td>\n",
       "      <td>4.5</td>\n",
       "      <td>NaN</td>\n",
       "      <td>{'lat': -6.759637700000001, 'lng': 107.6097807}</td>\n",
       "      <td>-6.759638</td>\n",
       "      <td>107.609781</td>\n",
       "    </tr>\n",
       "    <tr>\n",
       "      <th>211</th>\n",
       "      <td>212</td>\n",
       "      <td>Jalan Braga</td>\n",
       "      <td>Jalan Braga adalah nama sebuah jalan utama di ...</td>\n",
       "      <td>Budaya</td>\n",
       "      <td>Bandung</td>\n",
       "      <td>0</td>\n",
       "      <td>4.7</td>\n",
       "      <td>NaN</td>\n",
       "      <td>{'lat': -6.9150534, 'lng': 107.6089842}</td>\n",
       "      <td>-6.915053</td>\n",
       "      <td>107.608984</td>\n",
       "    </tr>\n",
       "  </tbody>\n",
       "</table>\n",
       "</div>"
      ],
      "text/plain": [
       "     Place_Id              Place_Name  ...       Lat        Long\n",
       "210       211  GunungTangkuban perahu  ... -6.759638  107.609781\n",
       "211       212             Jalan Braga  ... -6.915053  107.608984\n",
       "\n",
       "[2 rows x 11 columns]"
      ]
     },
     "execution_count": 6,
     "metadata": {},
     "output_type": "execute_result"
    }
   ],
   "source": [
    "# Merubah data agar hanya dari Kota Bandung\n",
    "\n",
    "place = place[place['City']=='Bandung']\n",
    "place.head(2)"
   ]
  },
  {
   "cell_type": "code",
   "execution_count": 7,
   "metadata": {
    "colab": {
     "base_uri": "https://localhost:8080/"
    },
    "id": "VhvGY2QEzghW",
    "outputId": "25cb422e-28a2-4905-fe93-80cfacd2b26d"
   },
   "outputs": [
    {
     "name": "stdout",
     "output_type": "stream",
     "text": [
      "<class 'pandas.core.frame.DataFrame'>\n",
      "Int64Index: 124 entries, 210 to 333\n",
      "Data columns (total 11 columns):\n",
      " #   Column        Non-Null Count  Dtype  \n",
      "---  ------        --------------  -----  \n",
      " 0   Place_Id      124 non-null    int64  \n",
      " 1   Place_Name    124 non-null    object \n",
      " 2   Description   124 non-null    object \n",
      " 3   Category      124 non-null    object \n",
      " 4   City          124 non-null    object \n",
      " 5   Price         124 non-null    int64  \n",
      " 6   Rating        124 non-null    float64\n",
      " 7   Time_Minutes  50 non-null     float64\n",
      " 8   Coordinate    124 non-null    object \n",
      " 9   Lat           124 non-null    float64\n",
      " 10  Long          124 non-null    float64\n",
      "dtypes: float64(4), int64(2), object(5)\n",
      "memory usage: 11.6+ KB\n"
     ]
    }
   ],
   "source": [
    "place.info()"
   ]
  },
  {
   "cell_type": "code",
   "execution_count": 8,
   "metadata": {
    "id": "uO8SEj_mznSb"
   },
   "outputs": [],
   "source": [
    "# Membuang kolom yang tidak dipakai\n",
    "\n",
    "place = place.drop('Time_Minutes', axis=1)"
   ]
  },
  {
   "cell_type": "markdown",
   "metadata": {
    "id": "MkmQhBc9yrpq"
   },
   "source": [
    "#### 3.2.2. Data rating"
   ]
  },
  {
   "cell_type": "code",
   "execution_count": 9,
   "metadata": {
    "colab": {
     "base_uri": "https://localhost:8080/",
     "height": 204
    },
    "id": "6LQMIb7s0cFU",
    "outputId": "f793b083-93aa-49ee-c5e6-03be9f73cd6b"
   },
   "outputs": [
    {
     "data": {
      "text/html": [
       "<div>\n",
       "<style scoped>\n",
       "    .dataframe tbody tr th:only-of-type {\n",
       "        vertical-align: middle;\n",
       "    }\n",
       "\n",
       "    .dataframe tbody tr th {\n",
       "        vertical-align: top;\n",
       "    }\n",
       "\n",
       "    .dataframe thead th {\n",
       "        text-align: right;\n",
       "    }\n",
       "</style>\n",
       "<table border=\"1\" class=\"dataframe\">\n",
       "  <thead>\n",
       "    <tr style=\"text-align: right;\">\n",
       "      <th></th>\n",
       "      <th>User_Id</th>\n",
       "      <th>Place_Id</th>\n",
       "      <th>Place_Ratings</th>\n",
       "    </tr>\n",
       "  </thead>\n",
       "  <tbody>\n",
       "    <tr>\n",
       "      <th>0</th>\n",
       "      <td>1</td>\n",
       "      <td>179</td>\n",
       "      <td>3</td>\n",
       "    </tr>\n",
       "    <tr>\n",
       "      <th>1</th>\n",
       "      <td>1</td>\n",
       "      <td>344</td>\n",
       "      <td>2</td>\n",
       "    </tr>\n",
       "    <tr>\n",
       "      <th>2</th>\n",
       "      <td>1</td>\n",
       "      <td>5</td>\n",
       "      <td>5</td>\n",
       "    </tr>\n",
       "    <tr>\n",
       "      <th>3</th>\n",
       "      <td>1</td>\n",
       "      <td>373</td>\n",
       "      <td>3</td>\n",
       "    </tr>\n",
       "    <tr>\n",
       "      <th>4</th>\n",
       "      <td>1</td>\n",
       "      <td>101</td>\n",
       "      <td>4</td>\n",
       "    </tr>\n",
       "  </tbody>\n",
       "</table>\n",
       "</div>"
      ],
      "text/plain": [
       "   User_Id  Place_Id  Place_Ratings\n",
       "0        1       179              3\n",
       "1        1       344              2\n",
       "2        1         5              5\n",
       "3        1       373              3\n",
       "4        1       101              4"
      ]
     },
     "execution_count": 9,
     "metadata": {},
     "output_type": "execute_result"
    }
   ],
   "source": [
    "# melihat gambaran data rating\n",
    "\n",
    "rating.head()"
   ]
  },
  {
   "cell_type": "code",
   "execution_count": 10,
   "metadata": {
    "colab": {
     "base_uri": "https://localhost:8080/"
    },
    "id": "jyaUT8hhzAil",
    "outputId": "ca494b2d-569e-4842-d437-3d65579f4156"
   },
   "outputs": [
    {
     "name": "stdout",
     "output_type": "stream",
     "text": [
      "<class 'pandas.core.frame.DataFrame'>\n",
      "RangeIndex: 10000 entries, 0 to 9999\n",
      "Data columns (total 3 columns):\n",
      " #   Column         Non-Null Count  Dtype\n",
      "---  ------         --------------  -----\n",
      " 0   User_Id        10000 non-null  int64\n",
      " 1   Place_Id       10000 non-null  int64\n",
      " 2   Place_Ratings  10000 non-null  int64\n",
      "dtypes: int64(3)\n",
      "memory usage: 234.5 KB\n"
     ]
    }
   ],
   "source": [
    "rating.info()"
   ]
  },
  {
   "cell_type": "code",
   "execution_count": 11,
   "metadata": {
    "colab": {
     "base_uri": "https://localhost:8080/",
     "height": 204
    },
    "id": "HpkN9Ggoz7zd",
    "outputId": "efb89422-886a-4087-b0bd-90086adceaf0"
   },
   "outputs": [
    {
     "data": {
      "text/html": [
       "<div>\n",
       "<style scoped>\n",
       "    .dataframe tbody tr th:only-of-type {\n",
       "        vertical-align: middle;\n",
       "    }\n",
       "\n",
       "    .dataframe tbody tr th {\n",
       "        vertical-align: top;\n",
       "    }\n",
       "\n",
       "    .dataframe thead th {\n",
       "        text-align: right;\n",
       "    }\n",
       "</style>\n",
       "<table border=\"1\" class=\"dataframe\">\n",
       "  <thead>\n",
       "    <tr style=\"text-align: right;\">\n",
       "      <th></th>\n",
       "      <th>User_Id</th>\n",
       "      <th>Place_Id</th>\n",
       "      <th>Place_Ratings</th>\n",
       "    </tr>\n",
       "  </thead>\n",
       "  <tbody>\n",
       "    <tr>\n",
       "      <th>0</th>\n",
       "      <td>9</td>\n",
       "      <td>211</td>\n",
       "      <td>3</td>\n",
       "    </tr>\n",
       "    <tr>\n",
       "      <th>1</th>\n",
       "      <td>26</td>\n",
       "      <td>211</td>\n",
       "      <td>2</td>\n",
       "    </tr>\n",
       "    <tr>\n",
       "      <th>2</th>\n",
       "      <td>40</td>\n",
       "      <td>211</td>\n",
       "      <td>3</td>\n",
       "    </tr>\n",
       "    <tr>\n",
       "      <th>3</th>\n",
       "      <td>40</td>\n",
       "      <td>211</td>\n",
       "      <td>2</td>\n",
       "    </tr>\n",
       "    <tr>\n",
       "      <th>4</th>\n",
       "      <td>70</td>\n",
       "      <td>211</td>\n",
       "      <td>5</td>\n",
       "    </tr>\n",
       "  </tbody>\n",
       "</table>\n",
       "</div>"
      ],
      "text/plain": [
       "   User_Id  Place_Id  Place_Ratings\n",
       "0        9       211              3\n",
       "1       26       211              2\n",
       "2       40       211              3\n",
       "3       40       211              2\n",
       "4       70       211              5"
      ]
     },
     "execution_count": 11,
     "metadata": {},
     "output_type": "execute_result"
    }
   ],
   "source": [
    "# Merubah data rating agar hanya berisi rating pada tempat wisata dari Kota Bandung\n",
    "\n",
    "rating = pd.merge(rating, place[['Place_Id']], how='right', on='Place_Id')\n",
    "rating.head()"
   ]
  },
  {
   "cell_type": "code",
   "execution_count": 12,
   "metadata": {
    "colab": {
     "base_uri": "https://localhost:8080/"
    },
    "id": "bGlaAHg2yyws",
    "outputId": "2c88a27c-2914-45fc-8012-536f6e1b2088"
   },
   "outputs": [
    {
     "data": {
      "text/plain": [
       "(2842, 3)"
      ]
     },
     "execution_count": 12,
     "metadata": {},
     "output_type": "execute_result"
    }
   ],
   "source": [
    "# Melihat ukuran dataset rating untuk Kota Bandung\n",
    "\n",
    "rating.shape"
   ]
  },
  {
   "cell_type": "markdown",
   "metadata": {
    "id": "CNSsKN17y4Q-"
   },
   "source": [
    "#### 3.2.3. Data user"
   ]
  },
  {
   "cell_type": "code",
   "execution_count": 13,
   "metadata": {
    "colab": {
     "base_uri": "https://localhost:8080/",
     "height": 204
    },
    "id": "JpISoTwn06HO",
    "outputId": "d627535c-f2c9-43d5-9201-17fa346aa671"
   },
   "outputs": [
    {
     "data": {
      "text/html": [
       "<div>\n",
       "<style scoped>\n",
       "    .dataframe tbody tr th:only-of-type {\n",
       "        vertical-align: middle;\n",
       "    }\n",
       "\n",
       "    .dataframe tbody tr th {\n",
       "        vertical-align: top;\n",
       "    }\n",
       "\n",
       "    .dataframe thead th {\n",
       "        text-align: right;\n",
       "    }\n",
       "</style>\n",
       "<table border=\"1\" class=\"dataframe\">\n",
       "  <thead>\n",
       "    <tr style=\"text-align: right;\">\n",
       "      <th></th>\n",
       "      <th>User_Id</th>\n",
       "      <th>Location</th>\n",
       "      <th>Age</th>\n",
       "    </tr>\n",
       "  </thead>\n",
       "  <tbody>\n",
       "    <tr>\n",
       "      <th>0</th>\n",
       "      <td>1</td>\n",
       "      <td>Semarang, Jawa Tengah</td>\n",
       "      <td>20</td>\n",
       "    </tr>\n",
       "    <tr>\n",
       "      <th>1</th>\n",
       "      <td>2</td>\n",
       "      <td>Bekasi, Jawa Barat</td>\n",
       "      <td>21</td>\n",
       "    </tr>\n",
       "    <tr>\n",
       "      <th>2</th>\n",
       "      <td>3</td>\n",
       "      <td>Cirebon, Jawa Barat</td>\n",
       "      <td>23</td>\n",
       "    </tr>\n",
       "    <tr>\n",
       "      <th>3</th>\n",
       "      <td>4</td>\n",
       "      <td>Bekasi, Jawa Barat</td>\n",
       "      <td>21</td>\n",
       "    </tr>\n",
       "    <tr>\n",
       "      <th>4</th>\n",
       "      <td>5</td>\n",
       "      <td>Lampung, Sumatera Selatan</td>\n",
       "      <td>20</td>\n",
       "    </tr>\n",
       "  </tbody>\n",
       "</table>\n",
       "</div>"
      ],
      "text/plain": [
       "   User_Id                   Location  Age\n",
       "0        1      Semarang, Jawa Tengah   20\n",
       "1        2         Bekasi, Jawa Barat   21\n",
       "2        3        Cirebon, Jawa Barat   23\n",
       "3        4         Bekasi, Jawa Barat   21\n",
       "4        5  Lampung, Sumatera Selatan   20"
      ]
     },
     "execution_count": 13,
     "metadata": {},
     "output_type": "execute_result"
    }
   ],
   "source": [
    "# Melihat gambaran data user\n",
    "\n",
    "user.head()"
   ]
  },
  {
   "cell_type": "code",
   "execution_count": 14,
   "metadata": {
    "colab": {
     "base_uri": "https://localhost:8080/",
     "height": 204
    },
    "id": "fQ_CVdh34EL4",
    "outputId": "b58e82c2-2854-48d5-e268-6c55e27698a4"
   },
   "outputs": [
    {
     "data": {
      "text/html": [
       "<div>\n",
       "<style scoped>\n",
       "    .dataframe tbody tr th:only-of-type {\n",
       "        vertical-align: middle;\n",
       "    }\n",
       "\n",
       "    .dataframe tbody tr th {\n",
       "        vertical-align: top;\n",
       "    }\n",
       "\n",
       "    .dataframe thead th {\n",
       "        text-align: right;\n",
       "    }\n",
       "</style>\n",
       "<table border=\"1\" class=\"dataframe\">\n",
       "  <thead>\n",
       "    <tr style=\"text-align: right;\">\n",
       "      <th></th>\n",
       "      <th>User_Id</th>\n",
       "      <th>Location</th>\n",
       "      <th>Age</th>\n",
       "    </tr>\n",
       "  </thead>\n",
       "  <tbody>\n",
       "    <tr>\n",
       "      <th>1764</th>\n",
       "      <td>1</td>\n",
       "      <td>Semarang, Jawa Tengah</td>\n",
       "      <td>20</td>\n",
       "    </tr>\n",
       "    <tr>\n",
       "      <th>2828</th>\n",
       "      <td>2</td>\n",
       "      <td>Bekasi, Jawa Barat</td>\n",
       "      <td>21</td>\n",
       "    </tr>\n",
       "    <tr>\n",
       "      <th>1828</th>\n",
       "      <td>3</td>\n",
       "      <td>Cirebon, Jawa Barat</td>\n",
       "      <td>23</td>\n",
       "    </tr>\n",
       "    <tr>\n",
       "      <th>2206</th>\n",
       "      <td>4</td>\n",
       "      <td>Bekasi, Jawa Barat</td>\n",
       "      <td>21</td>\n",
       "    </tr>\n",
       "    <tr>\n",
       "      <th>2832</th>\n",
       "      <td>5</td>\n",
       "      <td>Lampung, Sumatera Selatan</td>\n",
       "      <td>20</td>\n",
       "    </tr>\n",
       "  </tbody>\n",
       "</table>\n",
       "</div>"
      ],
      "text/plain": [
       "      User_Id                   Location  Age\n",
       "1764        1      Semarang, Jawa Tengah   20\n",
       "2828        2         Bekasi, Jawa Barat   21\n",
       "1828        3        Cirebon, Jawa Barat   23\n",
       "2206        4         Bekasi, Jawa Barat   21\n",
       "2832        5  Lampung, Sumatera Selatan   20"
      ]
     },
     "execution_count": 14,
     "metadata": {},
     "output_type": "execute_result"
    }
   ],
   "source": [
    "# Merubah data user agar hanya berisi user yang pernah megunjungi wisata di Kota Bandung\n",
    "\n",
    "user = pd.merge(user, rating[['User_Id']], how='right', on='User_Id').drop_duplicates().sort_values('User_Id')\n",
    "user.head()"
   ]
  },
  {
   "cell_type": "code",
   "execution_count": 15,
   "metadata": {
    "colab": {
     "base_uri": "https://localhost:8080/"
    },
    "id": "BhoRngVgy_ZO",
    "outputId": "e1aaa2f6-371b-4448-d461-f1cef66dbfcc"
   },
   "outputs": [
    {
     "data": {
      "text/plain": [
       "(300, 3)"
      ]
     },
     "execution_count": 15,
     "metadata": {},
     "output_type": "execute_result"
    }
   ],
   "source": [
    "# Melihat dataset user yang pernah memberi rating pada wisata di Kota Bandung\n",
    "\n",
    "user.shape"
   ]
  },
  {
   "cell_type": "markdown",
   "metadata": {
    "id": "VY-wWvMjt2kh"
   },
   "source": [
    "## 4. Eksplorasi Data"
   ]
  },
  {
   "cell_type": "code",
   "execution_count": 16,
   "metadata": {
    "colab": {
     "base_uri": "https://localhost:8080/",
     "height": 369
    },
    "id": "VU0VTqlLMhME",
    "outputId": "c9873780-f923-4773-9e8f-afc90686fbc0"
   },
   "outputs": [
    {
     "data": {
      "image/png": "[encoded data removed]",
      "text/plain": [
       "<Figure size 576x360 with 1 Axes>"
      ]
     },
     "metadata": {
      "needs_background": "light"
     },
     "output_type": "display_data"
    }
   ],
   "source": [
    "# Membuat dataframe berisi lokasi dengan jumlah rating terbanyak\n",
    "top_10 = rating['Place_Id'].value_counts().reset_index()[0:10]\n",
    "top_10 = pd.merge(top_10, place[['Place_Id','Place_Name']], how='left', left_on='index', right_on='Place_Id')\n",
    "\n",
    "# Membuat visualisasi wisata dengan jumlah rating terbanyak\n",
    "plt.figure(figsize=(8,5))\n",
    "sns.barplot('Place_Id_x', 'Place_Name', data=top_10)\n",
    "plt.title('Jumlah Tempat Wisata dengan Rating Terbanyak', pad=20)\n",
    "plt.ylabel('Jumlah Rating')\n",
    "plt.xlabel('Nama Lokasi')\n",
    "plt.show()"
   ]
  },
  {
   "cell_type": "code",
   "execution_count": 17,
   "metadata": {
    "colab": {
     "base_uri": "https://localhost:8080/",
     "height": 315
    },
    "id": "tPPihnSA6LS8",
    "outputId": "0770dff6-11e9-4cf4-b28e-a47b9610aa14"
   },
   "outputs": [
    {
     "data": {
      "image/png": "[encoded data removed]",
      "text/plain": [
       "<Figure size 432x288 with 1 Axes>"
      ]
     },
     "metadata": {
      "needs_background": "light"
     },
     "output_type": "display_data"
    }
   ],
   "source": [
    "# Membuat visualisasi jumlah kategori wisata di Kota Bandung\n",
    "\n",
    "sns.countplot(y='Category', data=place)\n",
    "plt.title('Perbandingan Jumlah Kategori Wisata di Kota Bandung', pad=20)\n",
    "plt.show()"
   ]
  },
  {
   "cell_type": "code",
   "execution_count": 18,
   "metadata": {
    "colab": {
     "base_uri": "https://localhost:8080/",
     "height": 260
    },
    "id": "Nr0chrAsLl01",
    "outputId": "90eb1dc4-7199-4ed5-902c-9859d77ac77f"
   },
   "outputs": [
    {
     "data": {
      "image/png": "[encoded data removed]",
      "text/plain": [
       "<Figure size 360x216 with 1 Axes>"
      ]
     },
     "metadata": {
      "needs_background": "light"
     },
     "output_type": "display_data"
    }
   ],
   "source": [
    "# Membuat visualisasi distribusi usia user\n",
    "\n",
    "plt.figure(figsize=(5,3))\n",
    "sns.boxplot(user['Age']);\n",
    "plt.title('Distribusi Usia User', pad=20)\n",
    "plt.show()"
   ]
  },
  {
   "cell_type": "code",
   "execution_count": 19,
   "metadata": {
    "colab": {
     "base_uri": "https://localhost:8080/",
     "height": 260
    },
    "id": "ZSHgC9UqSK3J",
    "outputId": "f682e187-156a-475b-d263-a283f4c0a709"
   },
   "outputs": [
    {
     "data": {
      "image/png": "[encoded data removed]",
      "text/plain": [
       "<Figure size 504x216 with 1 Axes>"
      ]
     },
     "metadata": {
      "needs_background": "light"
     },
     "output_type": "display_data"
    }
   ],
   "source": [
    "# Membuat visualisasi distribusi harga masuk tempat wisata\n",
    "\n",
    "plt.figure(figsize=(7,3))\n",
    "sns.boxplot(place['Price'])\n",
    "plt.title('Distribusi Harga Masuk Wisata di Kota Bandung', pad=20)\n",
    "plt.show()"
   ]
  },
  {
   "cell_type": "code",
   "execution_count": 20,
   "metadata": {
    "colab": {
     "base_uri": "https://localhost:8080/",
     "height": 410
    },
    "id": "kGobMR32UHps",
    "outputId": "2092f514-c9d2-4924-f189-db9ed0ce5083"
   },
   "outputs": [
    {
     "data": {
      "image/png": "[encoded data removed]",
      "text/plain": [
       "<Figure size 576x432 with 1 Axes>"
      ]
     },
     "metadata": {
      "needs_background": "light"
     },
     "output_type": "display_data"
    }
   ],
   "source": [
    "# Memfilter asal kota dari user\n",
    "askot = user['Location'].apply(lambda x : x.split(',')[0])\n",
    "\n",
    "# Visualisasi asal kota dari user\n",
    "plt.figure(figsize=(8,6))\n",
    "sns.countplot(y=askot)\n",
    "plt.title('Jumlah Asal Kota dari User')\n",
    "plt.show()"
   ]
  },
  {
   "cell_type": "markdown",
   "metadata": {
    "id": "Af3XQ2miZaRH"
   },
   "source": [
    "## 5. Persiapan Data untuk Pemodelan"
   ]
  },
  {
   "cell_type": "markdown",
   "metadata": {
    "id": "JyAtGmZF2kqK"
   },
   "source": [
    "### 5.1. Membuat Salinan Data rating"
   ]
  },
  {
   "cell_type": "code",
   "execution_count": 21,
   "metadata": {
    "colab": {
     "base_uri": "https://localhost:8080/",
     "height": 204
    },
    "id": "n47SDsSXZdck",
    "outputId": "5d69be95-1748-4fb0-f37a-a80b0d8930c2"
   },
   "outputs": [
    {
     "data": {
      "text/html": [
       "<div>\n",
       "<style scoped>\n",
       "    .dataframe tbody tr th:only-of-type {\n",
       "        vertical-align: middle;\n",
       "    }\n",
       "\n",
       "    .dataframe tbody tr th {\n",
       "        vertical-align: top;\n",
       "    }\n",
       "\n",
       "    .dataframe thead th {\n",
       "        text-align: right;\n",
       "    }\n",
       "</style>\n",
       "<table border=\"1\" class=\"dataframe\">\n",
       "  <thead>\n",
       "    <tr style=\"text-align: right;\">\n",
       "      <th></th>\n",
       "      <th>User_Id</th>\n",
       "      <th>Place_Id</th>\n",
       "      <th>Place_Ratings</th>\n",
       "    </tr>\n",
       "  </thead>\n",
       "  <tbody>\n",
       "    <tr>\n",
       "      <th>0</th>\n",
       "      <td>9</td>\n",
       "      <td>211</td>\n",
       "      <td>3</td>\n",
       "    </tr>\n",
       "    <tr>\n",
       "      <th>1</th>\n",
       "      <td>26</td>\n",
       "      <td>211</td>\n",
       "      <td>2</td>\n",
       "    </tr>\n",
       "    <tr>\n",
       "      <th>2</th>\n",
       "      <td>40</td>\n",
       "      <td>211</td>\n",
       "      <td>3</td>\n",
       "    </tr>\n",
       "    <tr>\n",
       "      <th>3</th>\n",
       "      <td>40</td>\n",
       "      <td>211</td>\n",
       "      <td>2</td>\n",
       "    </tr>\n",
       "    <tr>\n",
       "      <th>4</th>\n",
       "      <td>70</td>\n",
       "      <td>211</td>\n",
       "      <td>5</td>\n",
       "    </tr>\n",
       "  </tbody>\n",
       "</table>\n",
       "</div>"
      ],
      "text/plain": [
       "   User_Id  Place_Id  Place_Ratings\n",
       "0        9       211              3\n",
       "1       26       211              2\n",
       "2       40       211              3\n",
       "3       40       211              2\n",
       "4       70       211              5"
      ]
     },
     "execution_count": 21,
     "metadata": {},
     "output_type": "execute_result"
    }
   ],
   "source": [
    "# Membaca dataset untuk dilakukan encoding\n",
    " \n",
    "df = rating.copy()\n",
    "df.head()"
   ]
  },
  {
   "cell_type": "markdown",
   "metadata": {
    "id": "-h8alpCZ3JDS"
   },
   "source": [
    "### 5.2. Melakukan Encoding"
   ]
  },
  {
   "cell_type": "markdown",
   "metadata": {
    "id": "Wrl4fNfv522X"
   },
   "source": [
    "#### 5.2.1. Membuat Fungsi untuk Melakukan Encoding"
   ]
  },
  {
   "cell_type": "code",
   "execution_count": 22,
   "metadata": {
    "id": "O1xFj77E3OnN"
   },
   "outputs": [],
   "source": [
    "def dict_encoder(col, data=df):\n",
    "\n",
    "  # Mengubah kolom suatu dataframe menjadi list tanpa nilai yang sama\n",
    "  unique_val = data[col].unique().tolist()\n",
    "\n",
    "  # Melakukan encoding value kolom suatu dataframe ke angka\n",
    "  val_to_val_encoded = {x: i for i, x in enumerate(unique_val)}\n",
    "\n",
    "  # Melakukan proses encoding angka ke value dari kolom suatu dataframe\n",
    "  val_encoded_to_val = {i: x for i, x in enumerate(unique_val)}\n",
    "  return val_to_val_encoded, val_encoded_to_val"
   ]
  },
  {
   "cell_type": "markdown",
   "metadata": {
    "id": "OWac6MRz0nhV"
   },
   "source": [
    "#### 5.2.2. Encoding dan Mapping Kolom User"
   ]
  },
  {
   "cell_type": "code",
   "execution_count": 23,
   "metadata": {
    "id": "aUp25qsF4Tkp"
   },
   "outputs": [],
   "source": [
    "# Encoding User_Id\n",
    "user_to_user_encoded, user_encoded_to_user = dict_encoder('User_Id')\n",
    "\n",
    "# Mapping User_Id ke dataframe\n",
    "df['user'] = df['User_Id'].map(user_to_user_encoded)"
   ]
  },
  {
   "cell_type": "markdown",
   "metadata": {
    "id": "Ff1BSl4H5aMx"
   },
   "source": [
    "#### 5.2.3. Encoding dan Mapping Kolom Place"
   ]
  },
  {
   "cell_type": "code",
   "execution_count": 24,
   "metadata": {
    "id": "_td4s8-e5hYA"
   },
   "outputs": [],
   "source": [
    "# Encoding Place_Id\n",
    "place_to_place_encoded, place_encoded_to_place = dict_encoder('Place_Id')\n",
    "\n",
    "# Mapping Place_Id ke dataframe place\n",
    "df['place'] = df['Place_Id'].map(place_to_place_encoded)"
   ]
  },
  {
   "cell_type": "markdown",
   "metadata": {
    "id": "JyphV9zl60Bw"
   },
   "source": [
    "### 5.3. Melihat Gambaran Data untuk Pemodelan"
   ]
  },
  {
   "cell_type": "code",
   "execution_count": 25,
   "metadata": {
    "colab": {
     "base_uri": "https://localhost:8080/"
    },
    "id": "aRhkdzsPaNUJ",
    "outputId": "d192baa9-6177-4740-a3a1-21a909337396"
   },
   "outputs": [
    {
     "name": "stdout",
     "output_type": "stream",
     "text": [
      "Number of User: 300, Number of Place: 124, Min Rating: 1.0, Max Rating: 5.0\n"
     ]
    }
   ],
   "source": [
    "# Mendapatkan jumlah user dan place\n",
    "num_users, num_place = len(user_to_user_encoded), len(place_to_place_encoded)\n",
    " \n",
    "# Mengubah rating menjadi nilai float\n",
    "df['Place_Ratings'] = df['Place_Ratings'].values.astype(np.float32)\n",
    " \n",
    "# Mendapatkan nilai minimum dan maksimum rating\n",
    "min_rating, max_rating = min(df['Place_Ratings']), max(df['Place_Ratings'])\n",
    " \n",
    "print(f'Number of User: {num_users}, Number of Place: {num_place}, Min Rating: {min_rating}, Max Rating: {max_rating}')"
   ]
  },
  {
   "cell_type": "code",
   "execution_count": 26,
   "metadata": {
    "colab": {
     "base_uri": "https://localhost:8080/",
     "height": 111
    },
    "id": "dLJWzgRyZ-qZ",
    "outputId": "1d2f72e0-f785-43c5-c6cc-78aa3a95489f"
   },
   "outputs": [
    {
     "data": {
      "text/html": [
       "<div>\n",
       "<style scoped>\n",
       "    .dataframe tbody tr th:only-of-type {\n",
       "        vertical-align: middle;\n",
       "    }\n",
       "\n",
       "    .dataframe tbody tr th {\n",
       "        vertical-align: top;\n",
       "    }\n",
       "\n",
       "    .dataframe thead th {\n",
       "        text-align: right;\n",
       "    }\n",
       "</style>\n",
       "<table border=\"1\" class=\"dataframe\">\n",
       "  <thead>\n",
       "    <tr style=\"text-align: right;\">\n",
       "      <th></th>\n",
       "      <th>User_Id</th>\n",
       "      <th>Place_Id</th>\n",
       "      <th>Place_Ratings</th>\n",
       "      <th>user</th>\n",
       "      <th>place</th>\n",
       "    </tr>\n",
       "  </thead>\n",
       "  <tbody>\n",
       "    <tr>\n",
       "      <th>415</th>\n",
       "      <td>245</td>\n",
       "      <td>228</td>\n",
       "      <td>2.0</td>\n",
       "      <td>56</td>\n",
       "      <td>17</td>\n",
       "    </tr>\n",
       "    <tr>\n",
       "      <th>2233</th>\n",
       "      <td>44</td>\n",
       "      <td>309</td>\n",
       "      <td>3.0</td>\n",
       "      <td>45</td>\n",
       "      <td>98</td>\n",
       "    </tr>\n",
       "  </tbody>\n",
       "</table>\n",
       "</div>"
      ],
      "text/plain": [
       "      User_Id  Place_Id  Place_Ratings  user  place\n",
       "415       245       228            2.0    56     17\n",
       "2233       44       309            3.0    45     98"
      ]
     },
     "execution_count": 26,
     "metadata": {},
     "output_type": "execute_result"
    }
   ],
   "source": [
    "# Mengacak dataset\n",
    "df = df.sample(frac=1, random_state=42)\n",
    "df.head(2)"
   ]
  },
  {
   "cell_type": "markdown",
   "metadata": {
    "id": "w84bLhXK1ZmR"
   },
   "source": [
    "## 6. Pemodelan Machine Learning dengan RecommenderNet"
   ]
  },
  {
   "cell_type": "markdown",
   "metadata": {
    "id": "fFHmau_V1nym"
   },
   "source": [
    "### 6.1. Membagi data train dan test"
   ]
  },
  {
   "cell_type": "code",
   "execution_count": 27,
   "metadata": {
    "id": "5ke4UQfBZ_SX"
   },
   "outputs": [],
   "source": [
    "# Membuat variabel x untuk mencocokkan data user dan place menjadi satu value\n",
    "x = df[['user', 'place']].values\n",
    " \n",
    "# Membuat variabel y untuk membuat rating dari hasil \n",
    "y = df['Place_Ratings'].apply(lambda x: (x - min_rating) / (max_rating - min_rating)).values\n",
    " \n",
    "# Membagi menjadi 80% data train dan 20% data validasi\n",
    "train_indices = int(0.8 * df.shape[0])\n",
    "x_train, x_val, y_train, y_val = (\n",
    "    x[:train_indices],\n",
    "    x[train_indices:],\n",
    "    y[:train_indices],\n",
    "    y[train_indices:]\n",
    ")"
   ]
  },
  {
   "cell_type": "markdown",
   "metadata": {
    "id": "SElD8TDB1744"
   },
   "source": [
    "### 6.2. Menyiapkan Model"
   ]
  },
  {
   "cell_type": "markdown",
   "metadata": {
    "id": "63cJPBop8uN1"
   },
   "source": [
    "#### 6.2.1. Inisialisasi Fungsi"
   ]
  },
  {
   "cell_type": "code",
   "execution_count": 28,
   "metadata": {
    "id": "CuYEmQa3avO8"
   },
   "outputs": [],
   "source": [
    "class RecommenderNet(tf.keras.Model):\n",
    " \n",
    "  # Insialisasi fungsi\n",
    "  def __init__(self, num_users, num_places, embedding_size, **kwargs):\n",
    "    super(RecommenderNet, self).__init__(**kwargs)\n",
    "    self.num_users = num_users\n",
    "    self.num_places = num_places\n",
    "    self.embedding_size = embedding_size\n",
    "    self.user_embedding = layers.Embedding( # layer embedding user\n",
    "        num_users,\n",
    "        embedding_size,\n",
    "        embeddings_initializer = 'he_normal',\n",
    "        embeddings_regularizer = keras.regularizers.l2(1e-6)\n",
    "    )\n",
    "    self.user_bias = layers.Embedding(num_users, 1) # layer embedding user bias\n",
    "    self.places_embedding = layers.Embedding( # layer embeddings places\n",
    "        num_places,\n",
    "        embedding_size,\n",
    "        embeddings_initializer = 'he_normal',\n",
    "        embeddings_regularizer = keras.regularizers.l2(1e-6)\n",
    "    )\n",
    "    self.places_bias = layers.Embedding(num_places, 1) # layer embedding places bias\n",
    " \n",
    "  def call(self, inputs):\n",
    "    user_vector = self.user_embedding(inputs[:,0]) # memanggil layer embedding 1\n",
    "    user_bias = self.user_bias(inputs[:, 0]) # memanggil layer embedding 2\n",
    "    places_vector = self.places_embedding(inputs[:, 1]) # memanggil layer embedding 3\n",
    "    places_bias = self.places_bias(inputs[:, 1]) # memanggil layer embedding 4\n",
    " \n",
    "    dot_user_places = tf.tensordot(user_vector, places_vector, 2) \n",
    " \n",
    "    x = dot_user_places + user_bias + places_bias\n",
    "    \n",
    "    return tf.nn.sigmoid(x) # activation sigmoid"
   ]
  },
  {
   "cell_type": "markdown",
   "metadata": {
    "id": "Mi9E6U3V9HLU"
   },
   "source": [
    "#### 6.2.2. Inisialisasi Model"
   ]
  },
  {
   "cell_type": "code",
   "execution_count": 29,
   "metadata": {
    "id": "Vuj1NPJoa0Gt"
   },
   "outputs": [],
   "source": [
    "model = RecommenderNet(num_users, num_place, 50) # inisialisasi model\n",
    " \n",
    "# model compile\n",
    "model.compile(\n",
    "    loss = tf.keras.losses.BinaryCrossentropy(),\n",
    "    optimizer = keras.optimizers.Adam(learning_rate=0.0004),\n",
    "    metrics=[tf.keras.metrics.RootMeanSquaredError()]\n",
    ")"
   ]
  },
  {
   "cell_type": "markdown",
   "metadata": {
    "id": "76Kvt1gJ-fuV"
   },
   "source": [
    "#### 6.2.2. Inisialisasi Callbacks"
   ]
  },
  {
   "cell_type": "code",
   "execution_count": 30,
   "metadata": {
    "id": "_mkG8hVb-i7R"
   },
   "outputs": [],
   "source": [
    " class myCallback(tf.keras.callbacks.Callback):\n",
    "  def on_epoch_end(self, epoch, logs={}):\n",
    "    if(logs.get('val_root_mean_squared_error')<0.25):\n",
    "      print('Lapor! Metriks validasi sudah sesuai harapan')\n",
    "      self.model.stop_training = True"
   ]
  },
  {
   "cell_type": "markdown",
   "metadata": {
    "id": "kCvTLfOA9Pa5"
   },
   "source": [
    "#### 6.2.3. Proses Training"
   ]
  },
  {
   "cell_type": "code",
   "execution_count": 31,
   "metadata": {
    "colab": {
     "base_uri": "https://localhost:8080/"
    },
    "id": "Fi9h5xfWa3NB",
    "outputId": "377f38a8-a50f-4ad8-865e-ae12d2533538"
   },
   "outputs": [
    {
     "name": "stdout",
     "output_type": "stream",
     "text": [
      "Epoch 1/100\n",
      "72/72 [==============================] - 2s 5ms/step - loss: 0.7157 - root_mean_squared_error: 0.3563 - val_loss: 0.7186 - val_root_mean_squared_error: 0.3526\n",
      "Epoch 2/100\n",
      "72/72 [==============================] - 0s 2ms/step - loss: 0.7171 - root_mean_squared_error: 0.3571 - val_loss: 0.7174 - val_root_mean_squared_error: 0.3518\n",
      "Epoch 3/100\n",
      "72/72 [==============================] - 0s 2ms/step - loss: 0.7111 - root_mean_squared_error: 0.3531 - val_loss: 0.7175 - val_root_mean_squared_error: 0.3519\n",
      "Epoch 4/100\n",
      "72/72 [==============================] - 0s 2ms/step - loss: 0.7095 - root_mean_squared_error: 0.3523 - val_loss: 0.7191 - val_root_mean_squared_error: 0.3528\n",
      "Epoch 5/100\n",
      "72/72 [==============================] - 0s 2ms/step - loss: 0.7083 - root_mean_squared_error: 0.3513 - val_loss: 0.7201 - val_root_mean_squared_error: 0.3534\n",
      "Epoch 6/100\n",
      "72/72 [==============================] - 0s 2ms/step - loss: 0.7082 - root_mean_squared_error: 0.3507 - val_loss: 0.7203 - val_root_mean_squared_error: 0.3536\n",
      "Epoch 7/100\n",
      "72/72 [==============================] - 0s 2ms/step - loss: 0.6958 - root_mean_squared_error: 0.3428 - val_loss: 0.7211 - val_root_mean_squared_error: 0.3541\n",
      "Epoch 8/100\n",
      "72/72 [==============================] - 0s 2ms/step - loss: 0.6998 - root_mean_squared_error: 0.3457 - val_loss: 0.7208 - val_root_mean_squared_error: 0.3539\n",
      "Epoch 9/100\n",
      "72/72 [==============================] - 0s 2ms/step - loss: 0.6993 - root_mean_squared_error: 0.3452 - val_loss: 0.7211 - val_root_mean_squared_error: 0.3541\n",
      "Epoch 10/100\n",
      "72/72 [==============================] - 0s 2ms/step - loss: 0.6954 - root_mean_squared_error: 0.3425 - val_loss: 0.7210 - val_root_mean_squared_error: 0.3540\n",
      "Epoch 11/100\n",
      "72/72 [==============================] - 0s 2ms/step - loss: 0.6959 - root_mean_squared_error: 0.3429 - val_loss: 0.7205 - val_root_mean_squared_error: 0.3537\n",
      "Epoch 12/100\n",
      "72/72 [==============================] - 0s 2ms/step - loss: 0.6966 - root_mean_squared_error: 0.3433 - val_loss: 0.7209 - val_root_mean_squared_error: 0.3540\n",
      "Epoch 13/100\n",
      "72/72 [==============================] - 0s 2ms/step - loss: 0.6907 - root_mean_squared_error: 0.3391 - val_loss: 0.7206 - val_root_mean_squared_error: 0.3538\n",
      "Epoch 14/100\n",
      "72/72 [==============================] - 0s 3ms/step - loss: 0.6965 - root_mean_squared_error: 0.3432 - val_loss: 0.7207 - val_root_mean_squared_error: 0.3539\n",
      "Epoch 15/100\n",
      "72/72 [==============================] - 0s 2ms/step - loss: 0.6950 - root_mean_squared_error: 0.3421 - val_loss: 0.7208 - val_root_mean_squared_error: 0.3540\n",
      "Epoch 16/100\n",
      "72/72 [==============================] - 0s 2ms/step - loss: 0.6910 - root_mean_squared_error: 0.3394 - val_loss: 0.7197 - val_root_mean_squared_error: 0.3533\n",
      "Epoch 17/100\n",
      "72/72 [==============================] - 0s 2ms/step - loss: 0.6944 - root_mean_squared_error: 0.3417 - val_loss: 0.7203 - val_root_mean_squared_error: 0.3537\n",
      "Epoch 18/100\n",
      "72/72 [==============================] - 0s 2ms/step - loss: 0.6911 - root_mean_squared_error: 0.3393 - val_loss: 0.7203 - val_root_mean_squared_error: 0.3537\n",
      "Epoch 19/100\n",
      "72/72 [==============================] - 0s 2ms/step - loss: 0.6866 - root_mean_squared_error: 0.3361 - val_loss: 0.7197 - val_root_mean_squared_error: 0.3533\n",
      "Epoch 20/100\n",
      "72/72 [==============================] - 0s 2ms/step - loss: 0.6905 - root_mean_squared_error: 0.3391 - val_loss: 0.7195 - val_root_mean_squared_error: 0.3532\n",
      "Epoch 21/100\n",
      "72/72 [==============================] - 0s 2ms/step - loss: 0.6876 - root_mean_squared_error: 0.3370 - val_loss: 0.7199 - val_root_mean_squared_error: 0.3534\n",
      "Epoch 22/100\n",
      "72/72 [==============================] - 0s 2ms/step - loss: 0.6891 - root_mean_squared_error: 0.3381 - val_loss: 0.7188 - val_root_mean_squared_error: 0.3527\n",
      "Epoch 23/100\n",
      "72/72 [==============================] - 0s 2ms/step - loss: 0.6878 - root_mean_squared_error: 0.3371 - val_loss: 0.7200 - val_root_mean_squared_error: 0.3534\n",
      "Epoch 24/100\n",
      "72/72 [==============================] - 0s 2ms/step - loss: 0.6849 - root_mean_squared_error: 0.3350 - val_loss: 0.7200 - val_root_mean_squared_error: 0.3535\n",
      "Epoch 25/100\n",
      "72/72 [==============================] - 0s 2ms/step - loss: 0.6829 - root_mean_squared_error: 0.3335 - val_loss: 0.7195 - val_root_mean_squared_error: 0.3532\n",
      "Epoch 26/100\n",
      "72/72 [==============================] - 0s 2ms/step - loss: 0.6799 - root_mean_squared_error: 0.3314 - val_loss: 0.7198 - val_root_mean_squared_error: 0.3534\n",
      "Epoch 27/100\n",
      "72/72 [==============================] - 0s 2ms/step - loss: 0.6859 - root_mean_squared_error: 0.3356 - val_loss: 0.7199 - val_root_mean_squared_error: 0.3534\n",
      "Epoch 28/100\n",
      "72/72 [==============================] - 0s 2ms/step - loss: 0.6841 - root_mean_squared_error: 0.3343 - val_loss: 0.7202 - val_root_mean_squared_error: 0.3536\n",
      "Epoch 29/100\n",
      "72/72 [==============================] - 0s 2ms/step - loss: 0.6788 - root_mean_squared_error: 0.3305 - val_loss: 0.7202 - val_root_mean_squared_error: 0.3537\n",
      "Epoch 30/100\n",
      "72/72 [==============================] - 0s 2ms/step - loss: 0.6811 - root_mean_squared_error: 0.3322 - val_loss: 0.7199 - val_root_mean_squared_error: 0.3535\n",
      "Epoch 31/100\n",
      "72/72 [==============================] - 0s 2ms/step - loss: 0.6802 - root_mean_squared_error: 0.3314 - val_loss: 0.7205 - val_root_mean_squared_error: 0.3538\n",
      "Epoch 32/100\n",
      "72/72 [==============================] - 0s 2ms/step - loss: 0.6789 - root_mean_squared_error: 0.3305 - val_loss: 0.7206 - val_root_mean_squared_error: 0.3539\n",
      "Epoch 33/100\n",
      "72/72 [==============================] - 0s 2ms/step - loss: 0.6778 - root_mean_squared_error: 0.3298 - val_loss: 0.7205 - val_root_mean_squared_error: 0.3539\n",
      "Epoch 34/100\n",
      "72/72 [==============================] - 0s 2ms/step - loss: 0.6765 - root_mean_squared_error: 0.3288 - val_loss: 0.7206 - val_root_mean_squared_error: 0.3539\n",
      "Epoch 35/100\n",
      "72/72 [==============================] - 0s 2ms/step - loss: 0.6719 - root_mean_squared_error: 0.3253 - val_loss: 0.7205 - val_root_mean_squared_error: 0.3539\n",
      "Epoch 36/100\n",
      "72/72 [==============================] - 0s 2ms/step - loss: 0.6775 - root_mean_squared_error: 0.3295 - val_loss: 0.7202 - val_root_mean_squared_error: 0.3537\n",
      "Epoch 37/100\n",
      "72/72 [==============================] - 0s 2ms/step - loss: 0.6756 - root_mean_squared_error: 0.3281 - val_loss: 0.7195 - val_root_mean_squared_error: 0.3532\n",
      "Epoch 38/100\n",
      "72/72 [==============================] - 0s 2ms/step - loss: 0.6732 - root_mean_squared_error: 0.3262 - val_loss: 0.7195 - val_root_mean_squared_error: 0.3533\n",
      "Epoch 39/100\n",
      "72/72 [==============================] - 0s 2ms/step - loss: 0.6736 - root_mean_squared_error: 0.3267 - val_loss: 0.7200 - val_root_mean_squared_error: 0.3536\n",
      "Epoch 40/100\n",
      "72/72 [==============================] - 0s 2ms/step - loss: 0.6742 - root_mean_squared_error: 0.3271 - val_loss: 0.7203 - val_root_mean_squared_error: 0.3538\n",
      "Epoch 41/100\n",
      "72/72 [==============================] - 0s 2ms/step - loss: 0.6727 - root_mean_squared_error: 0.3260 - val_loss: 0.7208 - val_root_mean_squared_error: 0.3541\n",
      "Epoch 42/100\n",
      "72/72 [==============================] - 0s 2ms/step - loss: 0.6726 - root_mean_squared_error: 0.3259 - val_loss: 0.7206 - val_root_mean_squared_error: 0.3539\n",
      "Epoch 43/100\n",
      "72/72 [==============================] - 0s 2ms/step - loss: 0.6717 - root_mean_squared_error: 0.3252 - val_loss: 0.7206 - val_root_mean_squared_error: 0.3539\n",
      "Epoch 44/100\n",
      "72/72 [==============================] - 0s 2ms/step - loss: 0.6724 - root_mean_squared_error: 0.3257 - val_loss: 0.7201 - val_root_mean_squared_error: 0.3536\n",
      "Epoch 45/100\n",
      "72/72 [==============================] - 0s 2ms/step - loss: 0.6704 - root_mean_squared_error: 0.3242 - val_loss: 0.7201 - val_root_mean_squared_error: 0.3536\n",
      "Epoch 46/100\n",
      "72/72 [==============================] - 0s 2ms/step - loss: 0.6713 - root_mean_squared_error: 0.3249 - val_loss: 0.7199 - val_root_mean_squared_error: 0.3535\n",
      "Epoch 47/100\n",
      "72/72 [==============================] - 0s 2ms/step - loss: 0.6695 - root_mean_squared_error: 0.3236 - val_loss: 0.7193 - val_root_mean_squared_error: 0.3531\n",
      "Epoch 48/100\n",
      "72/72 [==============================] - 0s 2ms/step - loss: 0.6692 - root_mean_squared_error: 0.3234 - val_loss: 0.7194 - val_root_mean_squared_error: 0.3531\n",
      "Epoch 49/100\n",
      "72/72 [==============================] - 0s 2ms/step - loss: 0.6720 - root_mean_squared_error: 0.3255 - val_loss: 0.7190 - val_root_mean_squared_error: 0.3529\n",
      "Epoch 50/100\n",
      "72/72 [==============================] - 0s 2ms/step - loss: 0.6669 - root_mean_squared_error: 0.3217 - val_loss: 0.7186 - val_root_mean_squared_error: 0.3526\n",
      "Epoch 51/100\n",
      "72/72 [==============================] - 0s 2ms/step - loss: 0.6648 - root_mean_squared_error: 0.3201 - val_loss: 0.7188 - val_root_mean_squared_error: 0.3527\n",
      "Epoch 52/100\n",
      "72/72 [==============================] - 0s 2ms/step - loss: 0.6660 - root_mean_squared_error: 0.3210 - val_loss: 0.7188 - val_root_mean_squared_error: 0.3528\n",
      "Epoch 53/100\n",
      "72/72 [==============================] - 0s 2ms/step - loss: 0.6659 - root_mean_squared_error: 0.3209 - val_loss: 0.7185 - val_root_mean_squared_error: 0.3525\n",
      "Epoch 54/100\n",
      "72/72 [==============================] - 0s 2ms/step - loss: 0.6660 - root_mean_squared_error: 0.3209 - val_loss: 0.7191 - val_root_mean_squared_error: 0.3529\n",
      "Epoch 55/100\n",
      "72/72 [==============================] - 0s 2ms/step - loss: 0.6642 - root_mean_squared_error: 0.3196 - val_loss: 0.7194 - val_root_mean_squared_error: 0.3531\n",
      "Epoch 56/100\n",
      "72/72 [==============================] - 0s 2ms/step - loss: 0.6657 - root_mean_squared_error: 0.3207 - val_loss: 0.7193 - val_root_mean_squared_error: 0.3530\n",
      "Epoch 57/100\n",
      "72/72 [==============================] - 0s 2ms/step - loss: 0.6631 - root_mean_squared_error: 0.3188 - val_loss: 0.7194 - val_root_mean_squared_error: 0.3531\n",
      "Epoch 58/100\n",
      "72/72 [==============================] - 0s 2ms/step - loss: 0.6631 - root_mean_squared_error: 0.3188 - val_loss: 0.7201 - val_root_mean_squared_error: 0.3535\n",
      "Epoch 59/100\n",
      "72/72 [==============================] - 0s 2ms/step - loss: 0.6608 - root_mean_squared_error: 0.3170 - val_loss: 0.7207 - val_root_mean_squared_error: 0.3539\n",
      "Epoch 60/100\n",
      "72/72 [==============================] - 0s 2ms/step - loss: 0.6629 - root_mean_squared_error: 0.3185 - val_loss: 0.7206 - val_root_mean_squared_error: 0.3539\n",
      "Epoch 61/100\n",
      "72/72 [==============================] - 0s 2ms/step - loss: 0.6618 - root_mean_squared_error: 0.3177 - val_loss: 0.7210 - val_root_mean_squared_error: 0.3541\n",
      "Epoch 62/100\n",
      "72/72 [==============================] - 0s 2ms/step - loss: 0.6622 - root_mean_squared_error: 0.3181 - val_loss: 0.7211 - val_root_mean_squared_error: 0.3541\n",
      "Epoch 63/100\n",
      "72/72 [==============================] - 0s 2ms/step - loss: 0.6621 - root_mean_squared_error: 0.3179 - val_loss: 0.7209 - val_root_mean_squared_error: 0.3540\n",
      "Epoch 64/100\n",
      "72/72 [==============================] - 0s 2ms/step - loss: 0.6618 - root_mean_squared_error: 0.3177 - val_loss: 0.7215 - val_root_mean_squared_error: 0.3544\n",
      "Epoch 65/100\n",
      "72/72 [==============================] - 0s 2ms/step - loss: 0.6623 - root_mean_squared_error: 0.3181 - val_loss: 0.7220 - val_root_mean_squared_error: 0.3547\n",
      "Epoch 66/100\n",
      "72/72 [==============================] - 0s 2ms/step - loss: 0.6576 - root_mean_squared_error: 0.3146 - val_loss: 0.7222 - val_root_mean_squared_error: 0.3549\n",
      "Epoch 67/100\n",
      "72/72 [==============================] - 0s 2ms/step - loss: 0.6603 - root_mean_squared_error: 0.3166 - val_loss: 0.7224 - val_root_mean_squared_error: 0.3550\n",
      "Epoch 68/100\n",
      "72/72 [==============================] - 0s 2ms/step - loss: 0.6607 - root_mean_squared_error: 0.3169 - val_loss: 0.7230 - val_root_mean_squared_error: 0.3554\n",
      "Epoch 69/100\n",
      "72/72 [==============================] - 0s 2ms/step - loss: 0.6606 - root_mean_squared_error: 0.3168 - val_loss: 0.7224 - val_root_mean_squared_error: 0.3550\n",
      "Epoch 70/100\n",
      "72/72 [==============================] - 0s 2ms/step - loss: 0.6602 - root_mean_squared_error: 0.3165 - val_loss: 0.7229 - val_root_mean_squared_error: 0.3553\n",
      "Epoch 71/100\n",
      "72/72 [==============================] - 0s 2ms/step - loss: 0.6596 - root_mean_squared_error: 0.3161 - val_loss: 0.7229 - val_root_mean_squared_error: 0.3553\n",
      "Epoch 72/100\n",
      "72/72 [==============================] - 0s 2ms/step - loss: 0.6589 - root_mean_squared_error: 0.3156 - val_loss: 0.7227 - val_root_mean_squared_error: 0.3552\n",
      "Epoch 73/100\n",
      "72/72 [==============================] - 0s 2ms/step - loss: 0.6596 - root_mean_squared_error: 0.3160 - val_loss: 0.7221 - val_root_mean_squared_error: 0.3548\n",
      "Epoch 74/100\n",
      "72/72 [==============================] - 0s 2ms/step - loss: 0.6591 - root_mean_squared_error: 0.3157 - val_loss: 0.7221 - val_root_mean_squared_error: 0.3548\n",
      "Epoch 75/100\n",
      "72/72 [==============================] - 0s 2ms/step - loss: 0.6581 - root_mean_squared_error: 0.3149 - val_loss: 0.7229 - val_root_mean_squared_error: 0.3553\n",
      "Epoch 76/100\n",
      "72/72 [==============================] - 0s 2ms/step - loss: 0.6560 - root_mean_squared_error: 0.3134 - val_loss: 0.7233 - val_root_mean_squared_error: 0.3555\n",
      "Epoch 77/100\n",
      "72/72 [==============================] - 0s 2ms/step - loss: 0.6545 - root_mean_squared_error: 0.3121 - val_loss: 0.7229 - val_root_mean_squared_error: 0.3552\n",
      "Epoch 78/100\n",
      "72/72 [==============================] - 0s 2ms/step - loss: 0.6589 - root_mean_squared_error: 0.3156 - val_loss: 0.7229 - val_root_mean_squared_error: 0.3552\n",
      "Epoch 79/100\n",
      "72/72 [==============================] - 0s 2ms/step - loss: 0.6586 - root_mean_squared_error: 0.3153 - val_loss: 0.7228 - val_root_mean_squared_error: 0.3552\n",
      "Epoch 80/100\n",
      "72/72 [==============================] - 0s 3ms/step - loss: 0.6577 - root_mean_squared_error: 0.3146 - val_loss: 0.7231 - val_root_mean_squared_error: 0.3554\n",
      "Epoch 81/100\n",
      "72/72 [==============================] - 0s 2ms/step - loss: 0.6557 - root_mean_squared_error: 0.3132 - val_loss: 0.7228 - val_root_mean_squared_error: 0.3552\n",
      "Epoch 82/100\n",
      "72/72 [==============================] - 0s 2ms/step - loss: 0.6550 - root_mean_squared_error: 0.3126 - val_loss: 0.7235 - val_root_mean_squared_error: 0.3557\n",
      "Epoch 83/100\n",
      "72/72 [==============================] - 0s 2ms/step - loss: 0.6567 - root_mean_squared_error: 0.3139 - val_loss: 0.7240 - val_root_mean_squared_error: 0.3559\n",
      "Epoch 84/100\n",
      "72/72 [==============================] - 0s 2ms/step - loss: 0.6566 - root_mean_squared_error: 0.3137 - val_loss: 0.7244 - val_root_mean_squared_error: 0.3562\n",
      "Epoch 85/100\n",
      "72/72 [==============================] - 0s 2ms/step - loss: 0.6552 - root_mean_squared_error: 0.3127 - val_loss: 0.7246 - val_root_mean_squared_error: 0.3563\n",
      "Epoch 86/100\n",
      "72/72 [==============================] - 0s 2ms/step - loss: 0.6535 - root_mean_squared_error: 0.3115 - val_loss: 0.7239 - val_root_mean_squared_error: 0.3559\n",
      "Epoch 87/100\n",
      "72/72 [==============================] - 0s 3ms/step - loss: 0.6548 - root_mean_squared_error: 0.3126 - val_loss: 0.7244 - val_root_mean_squared_error: 0.3562\n",
      "Epoch 88/100\n",
      "72/72 [==============================] - 0s 2ms/step - loss: 0.6538 - root_mean_squared_error: 0.3118 - val_loss: 0.7246 - val_root_mean_squared_error: 0.3563\n",
      "Epoch 89/100\n",
      "72/72 [==============================] - 0s 2ms/step - loss: 0.6550 - root_mean_squared_error: 0.3126 - val_loss: 0.7250 - val_root_mean_squared_error: 0.3565\n",
      "Epoch 90/100\n",
      "72/72 [==============================] - 0s 2ms/step - loss: 0.6545 - root_mean_squared_error: 0.3122 - val_loss: 0.7255 - val_root_mean_squared_error: 0.3568\n",
      "Epoch 91/100\n",
      "72/72 [==============================] - 0s 2ms/step - loss: 0.6526 - root_mean_squared_error: 0.3109 - val_loss: 0.7254 - val_root_mean_squared_error: 0.3567\n",
      "Epoch 92/100\n",
      "72/72 [==============================] - 0s 2ms/step - loss: 0.6535 - root_mean_squared_error: 0.3114 - val_loss: 0.7244 - val_root_mean_squared_error: 0.3561\n",
      "Epoch 93/100\n",
      "72/72 [==============================] - 0s 2ms/step - loss: 0.6544 - root_mean_squared_error: 0.3122 - val_loss: 0.7238 - val_root_mean_squared_error: 0.3558\n",
      "Epoch 94/100\n",
      "72/72 [==============================] - 0s 2ms/step - loss: 0.6529 - root_mean_squared_error: 0.3109 - val_loss: 0.7238 - val_root_mean_squared_error: 0.3558\n",
      "Epoch 95/100\n",
      "72/72 [==============================] - 0s 2ms/step - loss: 0.6517 - root_mean_squared_error: 0.3101 - val_loss: 0.7240 - val_root_mean_squared_error: 0.3559\n",
      "Epoch 96/100\n",
      "72/72 [==============================] - 0s 2ms/step - loss: 0.6538 - root_mean_squared_error: 0.3118 - val_loss: 0.7249 - val_root_mean_squared_error: 0.3564\n",
      "Epoch 97/100\n",
      "72/72 [==============================] - 0s 2ms/step - loss: 0.6536 - root_mean_squared_error: 0.3115 - val_loss: 0.7244 - val_root_mean_squared_error: 0.3561\n",
      "Epoch 98/100\n",
      "72/72 [==============================] - 0s 2ms/step - loss: 0.6531 - root_mean_squared_error: 0.3112 - val_loss: 0.7241 - val_root_mean_squared_error: 0.3559\n",
      "Epoch 99/100\n",
      "72/72 [==============================] - 0s 2ms/step - loss: 0.6520 - root_mean_squared_error: 0.3103 - val_loss: 0.7244 - val_root_mean_squared_error: 0.3561\n",
      "Epoch 100/100\n",
      "72/72 [==============================] - 0s 2ms/step - loss: 0.6527 - root_mean_squared_error: 0.3109 - val_loss: 0.7246 - val_root_mean_squared_error: 0.3562\n"
     ]
    }
   ],
   "source": [
    "# Memulai training\n",
    " \n",
    "history = model.fit(\n",
    "    x = x_train,\n",
    "    y = y_train,\n",
    "    epochs = 100,\n",
    "    validation_data = (x_val, y_val),\n",
    "    callbacks = [myCallback()]\n",
    ")"
   ]
  },
  {
   "cell_type": "code",
   "execution_count": 32,
   "metadata": {
    "colab": {
     "base_uri": "https://localhost:8080/",
     "height": 301
    },
    "id": "LSIBifava531",
    "outputId": "f5f6b651-3460-4c6d-c77a-2f8322465531"
   },
   "outputs": [
    {
     "data": {
      "image/png": "[encoded data removed]",
      "text/plain": [
       "<Figure size 432x288 with 1 Axes>"
      ]
     },
     "metadata": {
      "needs_background": "light"
     },
     "output_type": "display_data"
    }
   ],
   "source": [
    "# Menampilkan plot loss dan validation\n",
    "\n",
    "plt.plot(history.history['root_mean_squared_error'])\n",
    "plt.plot(history.history['val_root_mean_squared_error'])\n",
    "plt.title('model_metrics')\n",
    "plt.ylabel('root_mean_squared_error')\n",
    "plt.xlabel('epoch')\n",
    "plt.ylim(ymin=0, ymax=0.4)\n",
    "plt.legend(['train', 'test'], loc='center left')\n",
    "plt.show()"
   ]
  },
  {
   "cell_type": "markdown",
   "metadata": {
    "id": "slW4RqK5AvYD"
   },
   "source": [
    "## 7. Memprediksi Top 7 Rekomendasi"
   ]
  },
  {
   "cell_type": "markdown",
   "metadata": {
    "id": "JXYjisJCDYht"
   },
   "source": [
    "#### 7.1 Menyiapkan DataFrame untuk Menampilkan Hasil Rekomendasi"
   ]
  },
  {
   "cell_type": "code",
   "execution_count": 33,
   "metadata": {
    "id": "QVJb3B5HbeBR"
   },
   "outputs": [],
   "source": [
    "# Menyiapkan dataframe\n",
    "place_df = place[['Place_Id','Place_Name','Category','Rating','Price']]\n",
    "place_df.columns = ['id','place_name','category','rating','price']\n",
    "df = rating.copy()"
   ]
  },
  {
   "cell_type": "markdown",
   "metadata": {
    "id": "Ll1D8D8qDp0J"
   },
   "source": [
    "#### 7.2. Menyiapkan contoh User untuk Menampilkan Rekomendasi"
   ]
  },
  {
   "cell_type": "markdown",
   "metadata": {
    "id": "M10zuXK4EdLt"
   },
   "source": [
    "#### 7.2.1 Mencari User"
   ]
  },
  {
   "cell_type": "code",
   "execution_count": 34,
   "metadata": {
    "id": "Ixzzpaj6B4E-"
   },
   "outputs": [],
   "source": [
    "# Mengambil sample user\n",
    "user_id = df.User_Id.sample(1).iloc[0]\n",
    "place_visited_by_user = df[df.User_Id == user_id]"
   ]
  },
  {
   "cell_type": "markdown",
   "metadata": {
    "id": "XLHxGm9lElbP"
   },
   "source": [
    "#### 7.2.2. Mencari Lokasi yang belum Dikunjungi User"
   ]
  },
  {
   "cell_type": "code",
   "execution_count": 35,
   "metadata": {
    "id": "V4cGTjABBVVI"
   },
   "outputs": [],
   "source": [
    "# Membuat data lokasi yang belum dikunjungi user\n",
    "place_not_visited = place_df[~place_df['id'].isin(place_visited_by_user.Place_Id.values)]['id'] \n",
    "place_not_visited = list(\n",
    "    set(place_not_visited)\n",
    "    .intersection(set(place_to_place_encoded.keys()))\n",
    ")\n",
    " \n",
    "place_not_visited = [[place_to_place_encoded.get(x)] for x in place_not_visited]\n",
    "user_encoder = user_to_user_encoded.get(user_id)\n",
    "user_place_array = np.hstack(\n",
    "    ([[user_encoder]] * len(place_not_visited), place_not_visited)\n",
    ")"
   ]
  },
  {
   "cell_type": "markdown",
   "metadata": {
    "id": "RZXkdz27Euik"
   },
   "source": [
    "### 7.3. Menampilkan Hasil Rekomendasi untuk User"
   ]
  },
  {
   "cell_type": "code",
   "execution_count": 36,
   "metadata": {
    "colab": {
     "base_uri": "https://localhost:8080/"
    },
    "id": "dVGN5F7JcAi8",
    "outputId": "e659ebb1-0774-4e9e-94e2-b6ce8089cb9b"
   },
   "outputs": [
    {
     "name": "stdout",
     "output_type": "stream",
     "text": [
      "Daftar rekomendasi untuk: User 173\n",
      "============================================= \n",
      "\n",
      "------------------------------------------------------------\n",
      "Tempat dengan rating wisata paling tinggi dari user\n",
      "------------------------------------------------------------\n",
      "Trans Studio Bandung : Taman Hiburan\n",
      "The Great Asia Africa : Taman Hiburan\n",
      "Pesona Nirwana Waterpark & Cottages : Taman Hiburan\n",
      "Situ Patenggang : Cagar Alam\n",
      "Kota Mini : Taman Hiburan\n",
      "\n",
      "------------------------------------------------------------\n",
      "Top 7 place recommendation\n",
      "------------------------------------------------------------\n",
      "1 . Puspa Iptek Sundial \n",
      "     Taman Hiburan , Harga Tiket Masuk  25000 , Rating Wisata  4.4 \n",
      "\n",
      "2 . Water Park Bandung Indah \n",
      "     Taman Hiburan , Harga Tiket Masuk  50000 , Rating Wisata  4.0 \n",
      "\n",
      "3 . Museum Nike Ardilla \n",
      "     Budaya , Harga Tiket Masuk  0 , Rating Wisata  4.6 \n",
      "\n",
      "4 . Sanghyang Heuleut \n",
      "     Cagar Alam , Harga Tiket Masuk  10000 , Rating Wisata  4.4 \n",
      "\n",
      "5 . Tafso Barn \n",
      "     Cagar Alam , Harga Tiket Masuk  0 , Rating Wisata  4.2 \n",
      "\n",
      "6 . Glamping Lakeside Rancabali \n",
      "     Taman Hiburan , Harga Tiket Masuk  30000 , Rating Wisata  4.4 \n",
      "\n",
      "7 . Bukit Jamur \n",
      "     Cagar Alam , Harga Tiket Masuk  0 , Rating Wisata  4.2 \n",
      "\n",
      "=============================================\n"
     ]
    }
   ],
   "source": [
    "# Mengambil top 7 recommendation\n",
    "ratings = model.predict(user_place_array).flatten()\n",
    "top_ratings_indices = ratings.argsort()[-7:][::-1]\n",
    "recommended_place_ids = [\n",
    "    place_encoded_to_place.get(place_not_visited[x][0]) for x in top_ratings_indices\n",
    "]\n",
    " \n",
    "print('Daftar rekomendasi untuk: {}'.format('User ' + str(user_id)))\n",
    "print('===' * 15,'\\n')\n",
    "print('----' * 15)\n",
    "print('Tempat dengan rating wisata paling tinggi dari user')\n",
    "print('----' * 15)\n",
    " \n",
    "top_place_user = (\n",
    "    place_visited_by_user.sort_values(\n",
    "        by = 'Place_Ratings',\n",
    "        ascending=False\n",
    "    )\n",
    "    .head(5)\n",
    "    .Place_Id.values\n",
    ")\n",
    " \n",
    "place_df_rows = place_df[place_df['id'].isin(top_place_user)]\n",
    "for row in place_df_rows.itertuples():\n",
    "    print(row.place_name, ':', row.category)\n",
    "\n",
    "print('')\n",
    "print('----' * 15)\n",
    "print('Top 7 place recommendation')\n",
    "print('----' * 15)\n",
    " \n",
    "recommended_place = place_df[place_df['id'].isin(recommended_place_ids)]\n",
    "for row, i in zip(recommended_place.itertuples(), range(1,8)):\n",
    "    print(i,'.', row.place_name, '\\n    ', row.category, ',', 'Harga Tiket Masuk ', row.price, ',', 'Rating Wisata ', row.rating,'\\n')\n",
    "\n",
    "print('==='*15)"
   ]
  },
  {
   "cell_type": "markdown",
   "metadata": {
    "id": "PNEcoWtNGgeo"
   },
   "source": [
    "# Penutup"
   ]
  },
  {
   "cell_type": "markdown",
   "metadata": {
    "id": "GGvF5Y5SGu6O"
   },
   "source": [
    "Model untuk menampilkan top 7 rekomendasi tempat wisata telah selesai dibuat dan model ini dapat digunakan untuk menampilkan rekomendasi kepada user yang harapannya dapat meningkatkan jumlah wisatawan di Kota Bandung. Namun demikian beberapa pengembangan lain masih dapat dilakukan agar dapat membuat model yang menampilkan rekomendasi yang lebih sesuai dengan kebiasaan pengguna, dll."
   ]
  },
  {
   "cell_type": "markdown",
   "metadata": {
    "id": "1UiqtQw7GjtP"
   },
   "source": [
    "## *Referensi*"
   ]
  },
  {
   "cell_type": "markdown",
   "metadata": {
    "id": "lxts6Lj0GwBz"
   },
   "source": [
    "* Seaborn : https://seaborn.pydata.org/tutorial.html\n",
    "* Callback : https://www.tensorflow.org/api_docs/python/tf/keras/callbacks/Callback\n",
    "* Lainnya:\n",
    "  * https://github.com/AgungP88/getloc-apps/tree/machine-learning\n",
    "  * https://www.kaggle.com/ibtesama/getting-started-with-a-movie-recommendation-system\n",
    "  * https://www.kaggle.com/aprabowo/indonesia-tourism-destination\n",
    "  * https://www.dicoding.com/academies/319"
   ]
  }
 ],
 "metadata": {
  "colab": {
   "collapsed_sections": [
    "Ls7Ze-uWnlLM"
   ],
   "name": "Sistem_Rekomendasi_Wisata_Kota_Bandung_Berbasis_Collaborative_Filtering.ipynb",
   "provenance": []
  },
  "kernelspec": {
   "display_name": "Python 3",
   "language": "python",
   "name": "python3"
  },
  "language_info": {
   "codemirror_mode": {
    "name": "ipython",
    "version": 3
   },
   "file_extension": ".py",
   "mimetype": "text/x-python",
   "name": "python",
   "nbconvert_exporter": "python",
   "pygments_lexer": "ipython3",
   "version": "3.8.8"
  }
 },
 "nbformat": 4,
 "nbformat_minor": 1
}
